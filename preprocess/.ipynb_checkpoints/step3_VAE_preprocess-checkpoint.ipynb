{
 "cells": [
  {
   "cell_type": "code",
   "execution_count": 1,
   "metadata": {},
   "outputs": [],
   "source": [
    "import numpy as np\n",
    "import pandas as pd"
   ]
  },
  {
   "cell_type": "code",
   "execution_count": 2,
   "metadata": {},
   "outputs": [
    {
     "name": "stdout",
     "output_type": "stream",
     "text": [
      "Reading data...Success.\n"
     ]
    }
   ],
   "source": [
    "# Read data\n",
    "iot_data_dir = \"../result/\"\n",
    "\n",
    "print(\"Reading data...\",end='')\n",
    "raw_encoded = pd.read_csv(iot_data_dir + \"encoded.csv\")\n",
    "raw_mds = pd.read_csv(iot_data_dir + \"min_distribution.csv\")\n",
    "print(\"Success.\")"
   ]
  },
  {
   "cell_type": "code",
   "execution_count": null,
   "metadata": {},
   "outputs": [],
   "source": [
    "def autocorrelation(x, lags):\n",
    "    # calculate autocorrelation in lags, return lags number of numbers\n",
    "    n = len(x)\n",
    "    res = [np.correlate(x[i:]-x[i:].mean(),x[:n-i]-x[:n-i].mean())[0]\\\n",
    "        /(x[i:].std()*x[:n-i].std()*(n-i)) \\\n",
    "        for i in range(1,lags+1)]\n",
    "    return res"
   ]
  },
  {
   "cell_type": "code",
   "execution_count": null,
   "metadata": {},
   "outputs": [],
   "source": [
    "def period_detection(seqs, threshold=0.85, lags=60):\n",
    "    self_co = np.zeros((seqs.shape[0],))\n",
    "    for i in range(0, seqs.shape[0]):\n",
    "        print(\"\\rProcessing \"+str(i+1)+\"/\"+str(seqs.shape[0]),end='')\n",
    "        self_co[i] = np.nanmax(autocorrelation(seqs[i], 60))\n",
    "    self_co = np.nan_to_num(self_co)\n",
    "    print(\"\\nDone.\")\n",
    "    return self_co"
   ]
  },
  {
   "cell_type": "code",
   "execution_count": null,
   "metadata": {},
   "outputs": [],
   "source": [
    "def burst_threshold(y, lag, threshold, influence):\n",
    "    # Z-score thresholding\n",
    "    signals = np.zeros(len(y))\n",
    "    filteredY = np.array(y)\n",
    "    avgFilter = [0]*len(y)\n",
    "    stdFilter = [0]*len(y)\n",
    "    avgFilter[lag - 1] = np.mean(y[0:lag])\n",
    "    stdFilter[lag - 1] = np.std(y[0:lag])\n",
    "    for i in range(lag, len(y) - 1):\n",
    "        if abs(y[i] - avgFilter[i-1]) > threshold * stdFilter [i-1]:\n",
    "            if y[i] > avgFilter[i-1]:\n",
    "                signals[i] = 1\n",
    "            else:\n",
    "                signals[i] = -1\n",
    "\n",
    "            filteredY[i] = influence * y[i] + (1 - influence) * filteredY[i-1]\n",
    "            avgFilter[i] = np.mean(filteredY[(i-lag):i])\n",
    "            stdFilter[i] = np.std(filteredY[(i-lag):i])\n",
    "        else:\n",
    "            signals[i] = 0\n",
    "            filteredY[i] = y[i]\n",
    "            avgFilter[i] = np.mean(filteredY[(i-lag):i])\n",
    "            stdFilter[i] = np.std(filteredY[(i-lag):i])\n",
    "    return np.asarray(signals).sum()"
   ]
  },
  {
   "cell_type": "code",
   "execution_count": null,
   "metadata": {},
   "outputs": [],
   "source": [
    "def burst_detection(seqs, win_size=5, threshold=10, influence=0.5):\n",
    "    res = np.zeros((seqs.shape[0],))\n",
    "    for i in range(0, seqs.shape[0]):\n",
    "        print(\"\\rProcessing \"+str(i+1)+\"/\"+str(seqs.shape[0]),end='')\n",
    "        res[i] = burst_threshold(seqs[i], win_size, threshold, influence)\n",
    "    print(\"\\nDone.\")\n",
    "    return res"
   ]
  },
  {
   "cell_type": "code",
   "execution_count": null,
   "metadata": {},
   "outputs": [],
   "source": [
    "# Create Burst Feature\n",
    "burst = burst_detection(raw_mds.iloc[:,2:].values)\n",
    "print(burst)\n",
    "print(burst.shape)"
   ]
  },
  {
   "cell_type": "code",
   "execution_count": null,
   "metadata": {},
   "outputs": [],
   "source": [
    "# Create Period Feature\n",
    "period = period_detection(raw_mds.iloc[:,2:].values)\n",
    "print(period)\n",
    "print(period.shape)"
   ]
  },
  {
   "cell_type": "code",
   "execution_count": null,
   "metadata": {},
   "outputs": [],
   "source": [
    "burst = burst.reshape((burst.shape[0],1))\n",
    "period = period.reshape((period.shape[0],1))\n",
    "save = np.column_stack((burst,period))\n",
    "np.savetxt(iot_data_dir + \"burst_period.csv\", save, fmt=\"%f\", delimiter=\",\")"
   ]
  }
 ],
 "metadata": {
  "kernelspec": {
   "display_name": "Python 3",
   "language": "python",
   "name": "python3"
  },
  "language_info": {
   "codemirror_mode": {
    "name": "ipython",
    "version": 3
   },
   "file_extension": ".py",
   "mimetype": "text/x-python",
   "name": "python",
   "nbconvert_exporter": "python",
   "pygments_lexer": "ipython3",
   "version": "3.7.3"
  }
 },
 "nbformat": 4,
 "nbformat_minor": 2
}
